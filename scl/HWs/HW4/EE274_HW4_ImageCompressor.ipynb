{
  "nbformat": 4,
  "nbformat_minor": 0,
  "metadata": {
    "colab": {
      "provenance": [],
      "toc_visible": true
    },
    "kernelspec": {
      "name": "python3",
      "display_name": "Python 3"
    },
    "language_info": {
      "name": "python"
    }
  },
  "cells": [
    {
      "cell_type": "markdown",
      "source": [
        "*NOTE: The Homework looks longer than it really is! (but do get started soon!)* Execute all the cells in the notebook as you go along and answer all the Quizzes.\n",
        "Also note that we have tested this on Google colab, so if you are using something else, there might be missing packages.\n",
        "This question is worth 40 points, you can use Table of Contents to navigate the notebook by clicking on the three horizontal bars on the left.\n",
        "\n",
        "# Introduction\n",
        "\n",
        "It is year 2035, and GPT15 has spawned \"EE274GPT\", an LLM finetuned on the EE274 course notes. EE274GPT is a friendly GPT who wants to help the world by designing better compression algorithms.\n",
        "\n",
        "In its quest to do this, it is trying to \"re-invent\" JPEG image compression, using what it learnt from Pulkit's lectures on transform coding: [L13](https://stanforddatacompressionclass.github.io/Fall23/static_files/slide_13_2023_ann.pdf), [L14](https://stanforddatacompressionclass.github.io/Fall23/static_files/L14.pdf). Recall that Transform coding works in three steps:\n",
        "\n",
        "- Step-1:  Transforming the data stream into uncorrelated samples\n",
        "- Step-II: Quantize the transform coefficients\n",
        "- Step-III: Losslessly encode these transformed coefficients\n",
        "\n",
        "Let's first set up some dependencies and some basic utility functions."
      ],
      "metadata": {
        "id": "bBV1mzZouGHj"
      }
    },
    {
      "cell_type": "code",
      "source": [
        "# Lets install Huggingface datasets library\n",
        "!pip install datasets"
      ],
      "metadata": {
        "id": "ElmG9ClekSSP",
        "colab": {
          "base_uri": "https://localhost:8080/"
        },
        "outputId": "8294bff3-8878-42fb-a2c9-56dca1b475f7"
      },
      "execution_count": null,
      "outputs": [
        {
          "output_type": "stream",
          "name": "stdout",
          "text": [
            "Requirement already satisfied: datasets in /usr/local/lib/python3.10/dist-packages (2.15.0)\n",
            "Requirement already satisfied: numpy>=1.17 in /usr/local/lib/python3.10/dist-packages (from datasets) (1.23.5)\n",
            "Requirement already satisfied: pyarrow>=8.0.0 in /usr/local/lib/python3.10/dist-packages (from datasets) (9.0.0)\n",
            "Requirement already satisfied: pyarrow-hotfix in /usr/local/lib/python3.10/dist-packages (from datasets) (0.5)\n",
            "Requirement already satisfied: dill<0.3.8,>=0.3.0 in /usr/local/lib/python3.10/dist-packages (from datasets) (0.3.7)\n",
            "Requirement already satisfied: pandas in /usr/local/lib/python3.10/dist-packages (from datasets) (1.5.3)\n",
            "Requirement already satisfied: requests>=2.19.0 in /usr/local/lib/python3.10/dist-packages (from datasets) (2.31.0)\n",
            "Requirement already satisfied: tqdm>=4.62.1 in /usr/local/lib/python3.10/dist-packages (from datasets) (4.66.1)\n",
            "Requirement already satisfied: xxhash in /usr/local/lib/python3.10/dist-packages (from datasets) (3.4.1)\n",
            "Requirement already satisfied: multiprocess in /usr/local/lib/python3.10/dist-packages (from datasets) (0.70.15)\n",
            "Requirement already satisfied: fsspec[http]<=2023.10.0,>=2023.1.0 in /usr/local/lib/python3.10/dist-packages (from datasets) (2023.6.0)\n",
            "Requirement already satisfied: aiohttp in /usr/local/lib/python3.10/dist-packages (from datasets) (3.8.6)\n",
            "Requirement already satisfied: huggingface-hub>=0.18.0 in /usr/local/lib/python3.10/dist-packages (from datasets) (0.19.3)\n",
            "Requirement already satisfied: packaging in /usr/local/lib/python3.10/dist-packages (from datasets) (23.2)\n",
            "Requirement already satisfied: pyyaml>=5.1 in /usr/local/lib/python3.10/dist-packages (from datasets) (6.0.1)\n",
            "Requirement already satisfied: attrs>=17.3.0 in /usr/local/lib/python3.10/dist-packages (from aiohttp->datasets) (23.1.0)\n",
            "Requirement already satisfied: charset-normalizer<4.0,>=2.0 in /usr/local/lib/python3.10/dist-packages (from aiohttp->datasets) (3.3.2)\n",
            "Requirement already satisfied: multidict<7.0,>=4.5 in /usr/local/lib/python3.10/dist-packages (from aiohttp->datasets) (6.0.4)\n",
            "Requirement already satisfied: async-timeout<5.0,>=4.0.0a3 in /usr/local/lib/python3.10/dist-packages (from aiohttp->datasets) (4.0.3)\n",
            "Requirement already satisfied: yarl<2.0,>=1.0 in /usr/local/lib/python3.10/dist-packages (from aiohttp->datasets) (1.9.2)\n",
            "Requirement already satisfied: frozenlist>=1.1.1 in /usr/local/lib/python3.10/dist-packages (from aiohttp->datasets) (1.4.0)\n",
            "Requirement already satisfied: aiosignal>=1.1.2 in /usr/local/lib/python3.10/dist-packages (from aiohttp->datasets) (1.3.1)\n",
            "Requirement already satisfied: filelock in /usr/local/lib/python3.10/dist-packages (from huggingface-hub>=0.18.0->datasets) (3.13.1)\n",
            "Requirement already satisfied: typing-extensions>=3.7.4.3 in /usr/local/lib/python3.10/dist-packages (from huggingface-hub>=0.18.0->datasets) (4.5.0)\n",
            "Requirement already satisfied: idna<4,>=2.5 in /usr/local/lib/python3.10/dist-packages (from requests>=2.19.0->datasets) (3.4)\n",
            "Requirement already satisfied: urllib3<3,>=1.21.1 in /usr/local/lib/python3.10/dist-packages (from requests>=2.19.0->datasets) (2.0.7)\n",
            "Requirement already satisfied: certifi>=2017.4.17 in /usr/local/lib/python3.10/dist-packages (from requests>=2.19.0->datasets) (2023.7.22)\n",
            "Requirement already satisfied: python-dateutil>=2.8.1 in /usr/local/lib/python3.10/dist-packages (from pandas->datasets) (2.8.2)\n",
            "Requirement already satisfied: pytz>=2020.1 in /usr/local/lib/python3.10/dist-packages (from pandas->datasets) (2023.3.post1)\n",
            "Requirement already satisfied: six>=1.5 in /usr/local/lib/python3.10/dist-packages (from python-dateutil>=2.8.1->pandas->datasets) (1.16.0)\n"
          ]
        }
      ]
    },
    {
      "cell_type": "code",
      "source": [
        "import numpy as np\n",
        "from PIL import Image\n",
        "import math\n",
        "import matplotlib.pyplot as plt\n",
        "from datasets import load_dataset\n",
        "from tqdm import tqdm\n",
        "import numpy as np\n",
        "import pandas as pd\n",
        "import matplotlib.pyplot as plt\n",
        "from ipywidgets import interact\n",
        "import ipywidgets as widgets\n",
        "from matplotlib import gridspec\n",
        "import plotly.express as px\n",
        "import datasets\n",
        "import os\n",
        "%matplotlib inline"
      ],
      "metadata": {
        "id": "NqiTvAmUkTmH"
      },
      "execution_count": null,
      "outputs": []
    },
    {
      "cell_type": "code",
      "source": [
        "## General utility functions on images\n",
        "\n",
        "def read_image(image_path):\n",
        "    img = Image.open(image_path)\n",
        "    return img\n",
        "\n",
        "def downscale_image(img, downscale_factor=None):\n",
        "    if downscale_factor is None:\n",
        "        return img\n",
        "\n",
        "    new_width = int(img.width//downscale_factor)\n",
        "    new_height = int(img.height//downscale_factor)\n",
        "\n",
        "    # Resize the image\n",
        "    img = img.resize((new_width, new_height), Image.Resampling.LANCZOS)\n",
        "    return img\n",
        "\n",
        "def convert_to_grayscale(img):\n",
        "    img = img.convert('L')  # Convert to grayscale\n",
        "    return img\n",
        "\n",
        "def convert_img_to_np_01(img):\n",
        "    \"\"\"\n",
        "    converts img to a float in [0,1] range\n",
        "    \"\"\"\n",
        "    img_arr = np.array(img)/255.0\n",
        "    return img_arr\n",
        "\n",
        "\n",
        "def display_blocks(blocks, blocks_per_row, vmin=0, vmax=1, figsize=(5,5)):\n",
        "    num_blocks = len(blocks)\n",
        "    num_rows = math.ceil(num_blocks / blocks_per_row)\n",
        "\n",
        "    fig, axes = plt.subplots(num_rows, blocks_per_row, figsize=figsize)\n",
        "    axes = axes.ravel()\n",
        "\n",
        "    for i in range(num_rows * blocks_per_row):\n",
        "        if i < num_blocks:\n",
        "            axes[i].imshow(blocks[i], cmap='gray', interpolation='nearest', vmin=vmin, vmax=vmax)\n",
        "            axes[i].axis('off')\n",
        "        else:\n",
        "            axes[i].axis('off')\n",
        "\n",
        "    plt.tight_layout()\n",
        "    plt.show()\n",
        "\n",
        "def array_to_blocks(arr, block_size):\n",
        "    \"\"\"\n",
        "    2D array [H,W] to [num_blocks, block_size, block_size]\n",
        "    \"\"\"\n",
        "    H, W = arr.shape\n",
        "\n",
        "    H = (H //block_size)*block_size\n",
        "    W = (W //block_size)*block_size\n",
        "    arr = arr[:H, :W]\n",
        "\n",
        "    # Reshape and transpose to get blocks\n",
        "    return (arr.reshape(H // block_size, block_size, -1, block_size)\n",
        "              .swapaxes(1, 2)\n",
        "              .reshape(-1, block_size, block_size))\n",
        "\n",
        "def blocks_to_array(blocks, H, W):\n",
        "    \"\"\"\n",
        "    inverse of array_to_blocks\n",
        "    \"\"\"\n",
        "    Bh, Bw = blocks.shape[1], blocks.shape[2]\n",
        "\n",
        "    # Ensure that the total number of elements matches\n",
        "    if blocks.size != H * W:\n",
        "        raise ValueError(\"Total number of elements in blocks does not match the expected array size\")\n",
        "\n",
        "    # Reshape back to the original array\n",
        "    return (blocks.reshape(H // Bh, W // Bw, Bh, Bw)\n",
        "                  .swapaxes(1, 2)\n",
        "                  .reshape(H, W))"
      ],
      "metadata": {
        "id": "lcdVN0plkbtg"
      },
      "execution_count": null,
      "outputs": []
    },
    {
      "cell_type": "markdown",
      "source": [
        "# Transform coding\n",
        "\n",
        "Similar to JPEG, EE274GPT proceeds by trying to apply the transform coding on blocks of images.\n",
        "EE274GPT starts with the Step-I of finding a linear transform which un-correlates these blocks.\n",
        "\n",
        "For simplicity we operate on grayscale images as shown below. Let us start with downloading the 'Kodak' dataset and visualizing samples from this dataset. This dataset consists of \"RAW\" images before any compression.\n"
      ],
      "metadata": {
        "id": "9BFTB4pGubTf"
      }
    },
    {
      "cell_type": "code",
      "source": [
        "# Kodak dataset\n",
        "dataset = load_dataset(\"Freed-Wu/kodak\")['test']"
      ],
      "metadata": {
        "id": "kEFggapSBlPE"
      },
      "execution_count": null,
      "outputs": []
    },
    {
      "cell_type": "code",
      "source": [
        "# Let us look at sample 0 from the dataset\n",
        "sample_img_rgb = dataset[0]['image']\n",
        "sample_img = convert_to_grayscale(sample_img_rgb)\n",
        "img_arr = convert_img_to_np_01(sample_img)\n",
        "plt.imshow(img_arr, cmap='gray')\n",
        "print(f\"Image dimensions: {img_arr.shape}\")"
      ],
      "metadata": {
        "id": "V_YAbcTbuljg"
      },
      "execution_count": null,
      "outputs": []
    },
    {
      "cell_type": "code",
      "source": [
        "# Let us look at sample 14 from the dataset\n",
        "sample_img_rgb = dataset[14]['image']\n",
        "sample_img = convert_to_grayscale(sample_img_rgb)\n",
        "img_arr = convert_img_to_np_01(sample_img)\n",
        "plt.imshow(img_arr, cmap='gray')\n",
        "print(f\"Image dimensions: {img_arr.shape}\")"
      ],
      "metadata": {
        "id": "UIdm_fmMuszE"
      },
      "execution_count": null,
      "outputs": []
    },
    {
      "cell_type": "markdown",
      "source": [
        "\n",
        "## Covariance Matrix\n",
        "Next, let's find the covariance matrix for the image block using the images in the Kodak dataset. Recall that if $[X_0,\\ldots, X_{n-1}]$ is our n-dimentional random variable, then $(i,j)$ element of the covariance matrix $M$ (of size $n\\times n$) is defined as\n",
        "\n",
        "$$M_{ij} = E[X_i X_j] - mean(X_i)*mean(X_j)$$\n",
        "\n",
        "where the **first term defines the correlation matrix**. Given a dataset, this can be computed using the empirical average across the blocks in all the images.\n",
        "\n",
        "In our case $[X_0, \\ldots, X_{n-1}]$ correspond to the flattenend elements of the block ($n$ = BLOCK_SIZE*BLOCK_SIZE).\n",
        "\n",
        "\n",
        "\n"
      ],
      "metadata": {
        "id": "_UM82Y1GuztQ"
      }
    },
    {
      "cell_type": "markdown",
      "source": [
        "---\n",
        "### Quiz1.1 (6 points)\n",
        "\n",
        "EE274GPT is able to write most of the code to find the covariance matrix, but it messes up a few key lines. Can you help out EE274GPT by completing the function `find_covariance_mean` to compute the covariance matrix and mean over the blocks of images?\n",
        "\n",
        "---"
      ],
      "metadata": {
        "id": "MEMGlobx_8In"
      }
    },
    {
      "cell_type": "code",
      "source": [
        "# Lets start with computing the covariance matrix:\n",
        "def find_covariance_mean(dataset, BLOCK_SIZE):\n",
        "\n",
        "    # keep cache variables\n",
        "    correlation = np.zeros((BLOCK_SIZE*BLOCK_SIZE, BLOCK_SIZE*BLOCK_SIZE))\n",
        "    mean = np.zeros((BLOCK_SIZE*BLOCK_SIZE))\n",
        "    count = 0 # number of images processed\n",
        "\n",
        "    # loop over images from the dataset\n",
        "    for i,sample in tqdm(enumerate(dataset), total=len(dataset)):\n",
        "\n",
        "        # we work with grayscale images for simplicity\n",
        "        img = sample['image']\n",
        "        img_gray = convert_to_grayscale(img)\n",
        "        img_arr = convert_img_to_np_01(img_gray)\n",
        "\n",
        "        # convert to [num_blocks, BLOCK_SIZE, BLOCK_SIZE] numpy array\n",
        "        blocks_3d = array_to_blocks(img_arr, BLOCK_SIZE)\n",
        "\n",
        "        ########################\n",
        "        # ADD CODE HERE\n",
        "\n",
        "        # You need to update the correlation and mean with contributions from blocks in\n",
        "        # this image.\n",
        "        # Note that correlation[i, j] maintains the average of the product of\n",
        "        # i'th and j'th pixel value across blocks. Whereas the mean[i] maintains the\n",
        "        # average of the pixel value of i'th pixel across blocks. The indices i, j\n",
        "        # here lie in the range [0, BLOCK_SIZE*BLOCK_SIZE - 1] so you might need\n",
        "        # need to deal with blocks_3d appropriately.\n",
        "\n",
        "        # You can assume that all images have the same number of blocks so you can\n",
        "        # first compute the average across the blocks in the image blocks and\n",
        "        # then incremented the running average of correlation and mean across images\n",
        "        # using the count variable.\n",
        "        ########################\n",
        "\n",
        "        raise NotImplementedError('implement this part')\n",
        "        ###################\n",
        "\n",
        "    covariance = correlation - mean.reshape(-1,1)*(mean.reshape(-1,1).T)\n",
        "    return covariance, mean"
      ],
      "metadata": {
        "id": "6WyWQv9AlSVg"
      },
      "execution_count": null,
      "outputs": []
    },
    {
      "cell_type": "markdown",
      "source": [
        "Now let's verify your implementation with a test. **Make sure your test passes before proceeding ahead.** The code provided for the test can also be useful for the later parts if you have difficulties with the implementation above."
      ],
      "metadata": {
        "id": "7qt8L2FtvC44"
      }
    },
    {
      "cell_type": "code",
      "source": [
        "# test covariance matches as expected using a naive implementation that collects\n",
        "# all blocks and uses numpy's provided functions instead of incremental changes\n",
        "# and going via the correlation as you did.\n",
        "def find_covariance_mean_ground_truth(dataset, BLOCK_SIZE):\n",
        "    # Initialize a list to hold all flattened blocks\n",
        "    all_flattened_blocks = []\n",
        "\n",
        "    # Loop over images - apply array_to_blocks and flatten each block\n",
        "    for sample in dataset:\n",
        "        img = sample['image']\n",
        "        img_gray = convert_to_grayscale(img)\n",
        "        img_arr = convert_img_to_np_01(img_gray)\n",
        "        blocks_3d = array_to_blocks(img_arr, BLOCK_SIZE)\n",
        "        flattened_blocks = blocks_3d.reshape(-1, BLOCK_SIZE * BLOCK_SIZE)\n",
        "        all_flattened_blocks.append(flattened_blocks)\n",
        "\n",
        "    # Stack all flattened blocks into a single 2D array\n",
        "    all_blocks_2d = np.vstack(all_flattened_blocks)\n",
        "\n",
        "    # Compute mean and covariance\n",
        "    mean = np.mean(all_blocks_2d, axis=0)\n",
        "    covariance = np.cov(all_blocks_2d, rowvar=False, bias=True)\n",
        "\n",
        "    return covariance, mean\n",
        "\n",
        "# test that the two implementations are identical on the Kodak dataset with block size 4x4\n",
        "def test_covariance_impl():\n",
        "    block_size = 2\n",
        "    covariance_ground_truth, mean_ground_truth = find_covariance_mean_ground_truth(dataset, block_size)\n",
        "    covariance_implemented, mean_implemented = find_covariance_mean(dataset, block_size)\n",
        "    assert np.allclose(mean_ground_truth, mean_implemented), \"Mean doesn't match\"\n",
        "    assert np.allclose(covariance_ground_truth, covariance_implemented), \"Covariance doesn't match\"\n",
        "    print()\n",
        "    print(\"All tests pass 🎉\")\n",
        "test_covariance_impl()"
      ],
      "metadata": {
        "id": "XUeNC0Dt77aH"
      },
      "execution_count": null,
      "outputs": []
    },
    {
      "cell_type": "markdown",
      "source": [
        "\n",
        "---\n",
        "### Quiz1.2 (2 points)\n",
        "\n",
        "Lets start by computing the covariance matrix for white noise image dataset (run the next 3 cells) over BLOCK_SIZE=8. Your computed covariance matrix should look like an identity matrix. Explain why the covariance matrix looks this way in a sentence.  \n",
        "\n",
        "Ans: [ADD ANSWER HERE]\n",
        "\n",
        "---\n"
      ],
      "metadata": {
        "id": "4hQvt5lQvYHQ"
      }
    },
    {
      "cell_type": "code",
      "source": [
        "## First we'll generate a white noise image and look at it. Note that you need to zoom in to observe the random pixels.\n",
        "# Define the dimensions of the image\n",
        "width = 4000\n",
        "height = 3000\n",
        "\n",
        "# Generate a random white noise image\n",
        "white_noise = np.random.randint(0, 256, (height, width, 3), dtype=np.uint8)\n",
        "image = Image.fromarray(white_noise)\n",
        "image.save(\"white_noise.png\")\n",
        "print(\"White noise image saved as 'white_noise.png' \")\n",
        "\n",
        "white_noise_dataset = datasets.Dataset.from_dict({\"image\": [\"white_noise.png\"]}).cast_column(\"image\", datasets.Image())\n",
        "white_noise_sample_img_rgb = white_noise_dataset[0]['image']\n",
        "white_noise_sample_img = convert_to_grayscale(white_noise_sample_img_rgb)\n",
        "\n",
        "# converts PIL Image to numpy array in [0,1]\n",
        "white_noise_img_arr = convert_img_to_np_01(white_noise_sample_img)\n",
        "plt.imshow(white_noise_img_arr, cmap='gray')\n",
        "print(f\"Image dimensions: {white_noise_img_arr.shape}\")\n"
      ],
      "metadata": {
        "id": "KhQi4SbuSJ6F"
      },
      "execution_count": null,
      "outputs": []
    },
    {
      "cell_type": "code",
      "source": [
        "## Zooming into the white noise image\n",
        "print(\"Zooming into the image to show a small portion\")\n",
        "plt.imshow(white_noise_img_arr[:100,:100], cmap='gray')"
      ],
      "metadata": {
        "id": "Ab29LtIKTEJx"
      },
      "execution_count": null,
      "outputs": []
    },
    {
      "cell_type": "markdown",
      "source": [
        "Now compute the covariance of the white noise image below and display."
      ],
      "metadata": {
        "id": "76JrWyRwvy4_"
      }
    },
    {
      "cell_type": "code",
      "source": [
        "BLOCK_SIZE = 8\n",
        "white_noise_covariance, white_noise_mean = find_covariance_mean(white_noise_dataset, BLOCK_SIZE=BLOCK_SIZE)\n",
        "\n",
        "## Lets look at the covariance matrix:\n",
        "shw = plt.imshow(white_noise_covariance)\n",
        "plt.colorbar(shw)"
      ],
      "metadata": {
        "id": "Mri0R3d3TcfQ"
      },
      "execution_count": null,
      "outputs": []
    },
    {
      "cell_type": "markdown",
      "source": [
        "\n",
        "---\n",
        "Now let's compute the covariance matrix over natural images from the Kodak dataset over 8x8 blocks. Your covariance matrix for 8x8 blocks should look something like below:\n",
        "\n",
        "![image.png](data:image/png;base64,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)"
      ],
      "metadata": {
        "id": "dNN9LuW4v--b"
      }
    },
    {
      "cell_type": "code",
      "source": [
        "## Lets look at the covariance matrix for the Kodak dataset\n",
        "BLOCK_SIZE = 8\n",
        "covariance, mean = find_covariance_mean(dataset, BLOCK_SIZE=BLOCK_SIZE)\n",
        "shw = plt.imshow(covariance)\n",
        "plt.colorbar(shw)"
      ],
      "metadata": {
        "id": "qzOcJYiMmeG4"
      },
      "execution_count": null,
      "outputs": []
    },
    {
      "cell_type": "markdown",
      "source": [
        "\n",
        "---\n",
        "### Quiz 1.3 (8 points)\n",
        "\n",
        "Do you see any patterns? Briefly answer the following questions:\n",
        "1. Explain why the highest values are along the diagonal, and the smallest values in the top right and bottom left corners.\n",
        "2. Along with the central diagonal, there are other two prominent diagonals which start from (0,8) and (8,0). Can you guess why those values are higher?\n",
        "3. Also, we observe a \"blocky\" pattern in blocks of 8x8. Why 8x8 patterns?\n",
        "4. Explain in a single sentence how this matrix is different than the one which we saw for white noise images, and why?\n",
        "5. [for fun] Explain any other patterns you see?\n",
        "\n",
        "Ans: [ADD ANSWER HERE]\n",
        "\n",
        "---\n",
        "\n"
      ],
      "metadata": {
        "id": "EoLmvwzBwQon"
      }
    },
    {
      "cell_type": "markdown",
      "source": [
        "## Computing Eigenvectors and Eigenvalues\n",
        "\n",
        "Now that EE274GPT is able to compute the covariance and mean, it next proceeds to find its eigenvalues and eigenvectors and use that for transform coding.\n",
        "(Also known as the Karhunen Loeve Transform, check out the [L14](https://stanforddatacompressionclass.github.io/Fall23/static_files/L14_ann.pdf) for more details)\n",
        "\n",
        "We can use the `compute_eigens` function written by EE274GPT to get the eigenvectors and eigenvalues over blocks of images. Note that the `compute_eigens` function returns eigenvectors in a descending order in terms of their eigenvalues (i.e. eigenvector with highest eigenvalue is top left and one with smallest is bottom right). Also note that the eigenvectors are displayed by reshaping it back to the 8x8 block. Run the code below to plot the eigenvectors and answer the questions.\n"
      ],
      "metadata": {
        "id": "T1HGANOdwTyi"
      }
    },
    {
      "cell_type": "code",
      "source": [
        "def compute_eigens(correlation_matrix):\n",
        "    # Compute eigenvalues and eigenvectors\n",
        "    eigenvalues, eigenvectors = np.linalg.eigh(correlation_matrix)\n",
        "\n",
        "    # Sort the eigenvalues and eigenvectors in descending order\n",
        "    idx = np.argsort(eigenvalues)[::-1]\n",
        "    eigenvalues = eigenvalues[idx]\n",
        "    eigenvectors = eigenvectors[:, idx]\n",
        "\n",
        "    return eigenvalues, eigenvectors"
      ],
      "metadata": {
        "id": "LLwsfCCPu7hq"
      },
      "execution_count": null,
      "outputs": []
    },
    {
      "cell_type": "code",
      "source": [
        "# Lets now compute the eigenvectors:\n",
        "# The eigenvectors are sorted decendingly based on the eigenvalues and are columns of the eigenvectors matrix\n",
        "eigenval, eigenvectors = compute_eigens(covariance)\n",
        "eigen_blocks = [e.reshape(BLOCK_SIZE, BLOCK_SIZE) for e in eigenvectors.T]\n",
        "display_blocks(eigen_blocks, BLOCK_SIZE, vmin=-0.25, vmax=0.25, figsize=(5,5))\n"
      ],
      "metadata": {
        "id": "vrGDtV7Xmfwh"
      },
      "execution_count": null,
      "outputs": []
    },
    {
      "cell_type": "code",
      "source": [
        "# Lets also view the eigenvalues\n",
        "import plotly.express as px\n",
        "px.bar(eigenval, log_y=True, labels={\"value\": \"eigenvalues (log scale)\"}, title=\"Eigenvalues\")"
      ],
      "metadata": {
        "id": "P0qk6Kkwl3SU"
      },
      "execution_count": null,
      "outputs": []
    },
    {
      "cell_type": "markdown",
      "source": [
        "\n",
        "---\n",
        "### Quiz 2.1 (5 points)\n",
        "\n",
        "a. Compare these eigenvectors to the DCT transform used for JPEG codec. Do these look similar?\n",
        "\n",
        "b. Intuitively explain why the first 3 eigenvectors and eigenvalues make sense\n",
        "\n",
        "c. Let's also do the same exercise for white noise image dataset. Run the two cells below and explain how these eigenvalues and eigenvectors are different from the ones corresponding to natural images.\n",
        "\n",
        "Ans: [ADD ANSWER HERE]\n",
        "\n",
        "---"
      ],
      "metadata": {
        "id": "SBuBvSrhwa_0"
      }
    },
    {
      "cell_type": "code",
      "source": [
        "# Lets now compute the eigenvectors:\n",
        "# The eigenvectors are sorted decendingly based on the eigenvalues and are columns og the eigenvectors matrix\n",
        "\n",
        "# Note that since the covariance matrix is almost identity, any orthonormal basis will form eigenvectors of the matrix\n",
        "# In particular, the matrix with eigenvectors as columns can even be the identity matrix, corresponding to identity transform.\n",
        "# Even the DCT or the KLT above for natural images is an eigenvector basis!\n",
        "\n",
        "white_noise_eigenval, white_noise_eigenvectors = compute_eigens(white_noise_covariance)\n",
        "white_noise_eigen_blocks = [e.reshape(BLOCK_SIZE, BLOCK_SIZE) for e in white_noise_eigenvectors.T]\n",
        "display_blocks(white_noise_eigen_blocks, BLOCK_SIZE, vmin=-0.25, vmax=0.25, figsize=(5,5))"
      ],
      "metadata": {
        "id": "dgw29Lx7TwxW"
      },
      "execution_count": null,
      "outputs": []
    },
    {
      "cell_type": "code",
      "source": [
        "df = pd.DataFrame({'x': range(64), 'Kodak dataset': eigenval, 'White noise': white_noise_eigenval})\n",
        "df_melted = df.melt(id_vars='x', value_vars=['Kodak dataset', 'White noise'])\n",
        "fig = px.bar(df_melted, log_y=True, x='x', y='value', color='variable', barmode='group',\n",
        "             color_discrete_map={'Kodak dataset': 'red', 'White noise': 'blue'})\n",
        "fig.show()"
      ],
      "metadata": {
        "id": "xBROkaBte89Z"
      },
      "execution_count": null,
      "outputs": []
    },
    {
      "cell_type": "markdown",
      "source": [
        "\n",
        "## Linear Transform\n",
        "\n",
        "Lets now use the computed eigenvectors and eigenvalues for transforming the image. EE274GPT has implemented the `forward_block_transform` and `inverse_block_transform`. The `forward_block_transform` does the following:\n",
        "\n",
        "- cuts the given image into blocks of shape `[BLOCK_SIZE, BLOCK_SIZE]`\n",
        "- flattens out these blocks, and subtracts mean from them to center them\n",
        "- use the eigenvectors to linearly transform them into transform coefficients.\n",
        "\n",
        "The `inverse_block_transform` function does the reverse operation. As a sanity check we can verify that applying the forward and the inverse transforms we can fully retrieve back the image.\n",
        "\n"
      ],
      "metadata": {
        "id": "v1QNaqcewkYw"
      }
    },
    {
      "cell_type": "code",
      "source": [
        "# Lets start by applying the transform on the image:\n",
        "def forward_block_transform(img_arr, BLOCK_SIZE, mean, eigenvectors):\n",
        "    img_blocks = array_to_blocks(img_arr, BLOCK_SIZE)\n",
        "    img_blocks_2d = np.reshape(img_blocks, (-1, BLOCK_SIZE*BLOCK_SIZE))\n",
        "\n",
        "    # subtract off the bias\n",
        "    img_blocks_2d_centered = img_blocks_2d - mean\n",
        "\n",
        "    # transform the blocks by multiplying by the eigenvectors:\n",
        "    img_blocks_transformed_2d = (img_blocks_2d_centered.dot(eigenvectors)).T # BlOCK_SIZE*BLOCK_SIZE, N\n",
        "    return img_blocks_transformed_2d\n",
        "\n",
        "def inverse_block_transform(transformed_coeffs_2d, H, W, BLOCK_SIZE, mean, eigenvectors):\n",
        "    # N, BlOCK_SIZE*BLOCK_SIZE\n",
        "    reconst_2d = (eigenvectors.dot(transformed_coeffs_2d)).T + np.reshape(mean, (1,-1))\n",
        "    reconst_3d = np.reshape(reconst_2d, (-1, BLOCK_SIZE,BLOCK_SIZE))\n",
        "    return blocks_to_array(reconst_3d, H, W)"
      ],
      "metadata": {
        "id": "gwAO_iioD7Xw"
      },
      "execution_count": null,
      "outputs": []
    },
    {
      "cell_type": "code",
      "source": [
        "# Lets verify if the forward and inverse block transforms together are invertible\n",
        "def mse(inp1, inp2):\n",
        "    return np.square(np.subtract(inp1, inp2)).mean()\n",
        "\n",
        "# BLOCK_SIZE*BLOCK_SIZE, N\n",
        "H, W = img_arr.shape\n",
        "transformed_coefficients = forward_block_transform(img_arr, BLOCK_SIZE, mean, eigenvectors)\n",
        "reconstruction = inverse_block_transform(transformed_coefficients, H, W, BLOCK_SIZE, mean, eigenvectors)\n",
        "\n",
        "mse_val = mse(img_arr, reconstruction)\n",
        "assert mse_val < 1e-4\n",
        "print(f\"MSE between input and reconst: {mse_val:.5f}\")\n"
      ],
      "metadata": {
        "id": "oiMByoqyEH-E"
      },
      "execution_count": null,
      "outputs": []
    },
    {
      "cell_type": "markdown",
      "source": [
        "---\n",
        "### Quiz 3.1 (4 points)\n",
        "\n",
        "EE274GPT has implemented the interactive panel below, which shows the contribution of different eigenvectors in the input image. i.e. we apply the inverse transform by setting the transform coefficients to zero except for a specific component (Look at the function `keep_specific_eigenvectors` to understand more). Experiment with the slider bar and then answer the following questions in a couple of sentences:\n",
        "\n",
        "1. Intuitively explain how the contribution from eigenvector 0 looks like as compared with the original image.\n",
        "\n",
        "2. Intuitively explain the contributions corresponding to next couple eigenvectors. Do you see some pattern in these contribution images?\n",
        "\n",
        "Ans: [ADD ANSWER HERE]\n",
        "\n",
        "----\n"
      ],
      "metadata": {
        "id": "8u5AQY9zwr6l"
      }
    },
    {
      "cell_type": "code",
      "source": [
        "# Now lets see what happens if we only keep some of the transformed coefficients:\n",
        "def keep_specific_eigenvectors(img_arr, keep_ind, mean, eigenvectors, block_size):\n",
        "    transformed_coeffs_2d = forward_block_transform(img_arr, block_size, mean, eigenvectors)\n",
        "\n",
        "    # only keep certain transform coefficients\n",
        "    transformed_coeffs_2d_trimmed = 0*transformed_coeffs_2d\n",
        "    transformed_coeffs_2d_trimmed[keep_ind,:] = transformed_coeffs_2d[keep_ind,:]\n",
        "    reconst = inverse_block_transform(transformed_coeffs_2d_trimmed, H, W, block_size, mean, eigenvectors)\n",
        "    return reconst\n",
        "\n",
        "# lets visualize these eigenvectors:\n",
        "# as we can see the first few eigenvectors have a significant contribution, beyond which it wanes\n",
        "\n",
        "import numpy as np\n",
        "import pandas as pd\n",
        "import matplotlib.pyplot as plt\n",
        "from ipywidgets import interact\n",
        "import ipywidgets as widgets\n",
        "from matplotlib import gridspec\n",
        "\n",
        "columns=list(range(0,BLOCK_SIZE*BLOCK_SIZE))\n",
        "def g(number_of_eigen_shown):\n",
        "    reconst = keep_specific_eigenvectors(img_arr, number_of_eigen_shown, mean, eigenvectors, BLOCK_SIZE)\n",
        "    reconst = np.clip(reconst, a_max=1.0, a_min=0.0)\n",
        "\n",
        "    # create a figure\n",
        "    fig = plt.figure()\n",
        "    fig.set_figheight(8)\n",
        "    fig.set_figwidth(8)\n",
        "\n",
        "    # create grid for different subplots\n",
        "    spec = gridspec.GridSpec(ncols=2, nrows=1,\n",
        "                            width_ratios=[5, 1], wspace=0.1)\n",
        "\n",
        "    ax1 = fig.add_subplot(spec[0])\n",
        "    ax1.imshow(reconst, cmap='gray')\n",
        "    # ax1.axis('off')  # Turn off axis for first image\n",
        "    ax1.set_title('Eigenvector contribution')\n",
        "\n",
        "    eigenvector = np.reshape(eigenvectors[:,number_of_eigen_shown], (BLOCK_SIZE, BLOCK_SIZE))\n",
        "    ax2 = fig.add_subplot(spec[1])\n",
        "    ax2.imshow(eigenvector, cmap='gray', vmin=-0.25, vmax=0.25)\n",
        "    # ax2.axis('off')  # Turn off axis for second image\n",
        "    ax2.set_title('Eigenvector')\n",
        "    plt.show()\n",
        "\n",
        "    # plt.imshow(reconst, cmap='gray')\n",
        "    # fig.show()\n",
        "\n",
        "interactive_plot = interact(g, number_of_eigen_shown=widgets.IntSlider(min=0, max=63, step=1, value=0))\n",
        "interactive_plot"
      ],
      "metadata": {
        "id": "l0lBP22yF5Z_"
      },
      "execution_count": null,
      "outputs": []
    },
    {
      "cell_type": "markdown",
      "source": [
        "Looking at the contributions above, it is clear that the eigenvectors beyond the initial few do not have as much contribution (this can also be seen from the eigenvalues). To visualize this better, here is an interactive demo which only retains eigenvector contributions corresponding to the first few eigenvectors (as controlled by the slider).\n"
      ],
      "metadata": {
        "id": "UI53ONzsw9Qa"
      }
    },
    {
      "cell_type": "code",
      "source": [
        "def keep_until_eigenvectors(img_arr, keep_until, mean, eigenvectors, block_size):\n",
        "    transformed_coeffs_2d = forward_block_transform(img_arr, block_size, mean, eigenvectors)\n",
        "\n",
        "    # only keep certain transform coefficients\n",
        "    transformed_coeffs_2d[keep_until+1:,:] = 0\n",
        "    reconst = inverse_block_transform(transformed_coeffs_2d, H, W, block_size, mean, eigenvectors)\n",
        "    return reconst\n",
        "\n",
        "# lets visualize these eigenvectors:\n",
        "# as we can see the first few eigenvectors have a significant contribution, beyond which it wanes\n",
        "\n",
        "columns=list(range(0,BLOCK_SIZE*BLOCK_SIZE))\n",
        "def g(number_of_eigen_shown):\n",
        "    reconst = keep_until_eigenvectors(img_arr, number_of_eigen_shown, mean, eigenvectors, BLOCK_SIZE)\n",
        "    reconst = np.clip(reconst, a_max=1.0, a_min=0.0)\n",
        "\n",
        "    # create a figure\n",
        "    fig = plt.figure()\n",
        "    fig.set_figheight(8)\n",
        "    fig.set_figwidth(8)\n",
        "\n",
        "    # create grid for different subplots\n",
        "    spec = gridspec.GridSpec(ncols=2, nrows=1,\n",
        "                            width_ratios=[5, 1], wspace=0.1)\n",
        "\n",
        "    ax1 = fig.add_subplot(spec[0])\n",
        "    ax1.imshow(reconst, cmap='gray')\n",
        "    # ax1.axis('off')  # Turn off axis for first image\n",
        "    ax1.set_title(f'Reconstruction until Eigenvector {number_of_eigen_shown}')\n",
        "\n",
        "    eigenvector = np.reshape(eigenvectors[:,number_of_eigen_shown], (BLOCK_SIZE, BLOCK_SIZE))\n",
        "    ax2 = fig.add_subplot(spec[1])\n",
        "    ax2.imshow(eigenvector, cmap='gray', vmin=-0.25, vmax=0.25)\n",
        "    # ax2.axis('off')  # Turn off axis for second image\n",
        "    ax2.set_title('Eigenvector')\n",
        "    plt.show()\n",
        "\n",
        "    # plt.imshow(reconst, cmap='gray')\n",
        "    # fig.show()\n",
        "\n",
        "interactive_plot = interact(g, number_of_eigen_shown=widgets.IntSlider(min=0, max=63, step=1, value=0))\n",
        "interactive_plot"
      ],
      "metadata": {
        "id": "uJtGSemqKfL7"
      },
      "execution_count": null,
      "outputs": []
    },
    {
      "cell_type": "markdown",
      "source": [
        "Notice that we need only a few eigenvectors (initial ~5-10) to obtain an acceptable reconstruction. Thus, this suggests a simple idea for compression which we saw in class:\n",
        "\n",
        "- Transform the image using the eigenvectors, throw out all the eigenvector coefficients beyond the first 5 or 10 eigenvectors\n",
        "- Quantize and losslessly compress the initial few eigenvector coefficients.\n",
        "\n",
        "This should give us a reasonably good compressor. EE274GPT uses similar observations to implement an image compression algorithm.\n"
      ],
      "metadata": {
        "id": "FrJcK7pNxLr9"
      }
    },
    {
      "cell_type": "markdown",
      "source": [
        "\n",
        "# Image Codec\n",
        "\n",
        "Let us combine the previous ideas into a image codec. Take a look at the `ImageCodec` class implemented by EE274GPT. The `ImageCodec::encode` function implemented by EE274GPT is shown below.\n",
        "- Notice that it does something a bit smarter than just throwing out the eigenvector coefficients and uses ideas from waterfilling as described in the class to quantize the transform coefficients based on their importance, i.e. coefficients corresponding to first eigenvector are first scaled up by multiplying by a high value before quantization (done by simply rounding).\n",
        "\n",
        "- The `ImageCodec` controls the average level distortion using a parameter called `theta`, which determines the amount by which to scale up the coefficients. We will not focus on this too much here, but the idea is that at higher `theta` we can tolerate higher distortion so we multiply with a smaller scaling factor before casting to integers.\n",
        "\n",
        "- The `ImageCodec` then takes these rounded/quantized coefficients concatenates them and then losslessly encodes them using Bzip2 (recall that Bzip2 is the lossless compressor which uses concepts such as BWT and LZ which you saw in HW3)."
      ],
      "metadata": {
        "id": "qxvnOOn7BzwD"
      }
    },
    {
      "cell_type": "markdown",
      "source": [
        "---\n",
        "\n",
        "## Quiz 4.1 (12 points)\n",
        "\n",
        "EE274GPT was able to implement the `encode` function properly, but it messed up the `decode` function. Can you again step in and help complete the `decode` function?\n",
        "\n",
        "As a hint, the `decode` function should essentially be the reverse of `encode` function. You do not need to completely understand the `Bzip2` and `RateController` components, you can just focus on the `ImageCodec`. Also you may try out the the `ImageCodec` encode/decode test function in the cell below.\n",
        "\n",
        "---"
      ],
      "metadata": {
        "id": "uwyxmxDwFALb"
      }
    },
    {
      "cell_type": "code",
      "source": [
        "# We will be using the BZIP2 compressor as our choice of lossless compressor\n",
        "# NOTE: You don't need to understand what is happening here!\n",
        "import bz2\n",
        "class Bzip2:\n",
        "    @classmethod\n",
        "    def encode(cls, input_data_int8_flat_uint8):\n",
        "        assert len(input_data_int8_flat_uint8.shape) == 1\n",
        "        assert input_data_int8_flat_uint8.dtype == np.uint8\n",
        "        raw_bytes = bytes(list(input_data_int8_flat_uint8))\n",
        "        compressed_bytes = bz2.compress(raw_bytes)\n",
        "        return compressed_bytes\n",
        "\n",
        "    @classmethod\n",
        "    def decode(cls, compressed_bytes):\n",
        "        decoded_bytes = bz2.decompress(compressed_bytes)\n",
        "        return np.array(list(decoded_bytes), dtype=np.uint8)\n",
        "\n",
        "\n",
        "# Test for bzip2\n",
        "img_uint8 = np.array(sample_img)\n",
        "img_uint8_flat = img_uint8.flatten()\n",
        "c = Bzip2.encode(img_uint8_flat)\n",
        "decoded = Bzip2.decode(c)\n",
        "assert np.sum(np.abs(decoded*1.0 - img_uint8_flat*1.0)) < 1e-3\n",
        "\n",
        "# RateController determines the rate and scaling matrix to be applied to each\n",
        "# transformed coefficient based on the set of eigenvalues and the value of theta.\n",
        "# This is inspired by the idea of waterfilling which we saw in class, although\n",
        "# you do not need to understand this part of the code in detail.\n",
        "# theta here corresponds to the water level, so higher theta means higher distortion.\n",
        "class RateController:\n",
        "    @classmethod\n",
        "    def waterfilling_distortions_rate(cls, theta, eigenvals):\n",
        "        distortions = np.minimum(eigenvals, theta)\n",
        "        optimal_rate = 0.5*np.log2(eigenvals/distortions)\n",
        "        return distortions, optimal_rate\n",
        "\n",
        "    @classmethod\n",
        "    def get_scaling_matrix(cls, optimal_rate, eigenvals):\n",
        "        scaling_matrix = 0.1 * np.floor(np.power(2, optimal_rate))\n",
        "        scaling_matrix = np.minimum(scaling_matrix / np.sqrt(eigenvals), 30)\n",
        "        return scaling_matrix\n",
        "\n",
        "# utility function: compute the bits per pixel\n",
        "def bits_per_pixel(compressed_bytes, H,W):\n",
        "    return len(compressed_bytes)*8/(H*W)\n",
        "\n",
        "\n",
        "# The actual image codec based on the components above!\n",
        "class ImageCodec:\n",
        "    def __init__(self, block_size, eigenvectors, mean, eigenvals):\n",
        "        self.block_size = block_size\n",
        "        self.eigenvectors = eigenvectors\n",
        "        self.mean = mean\n",
        "        self.eigenvals = eigenvals\n",
        "\n",
        "    def encode(self, img_arr, theta):\n",
        "        \"\"\"\n",
        "        img_arr: numpy array of shape (H, W)\n",
        "        theta: quality parameter determing RD tradeoff\n",
        "        \"\"\"\n",
        "\n",
        "        # perform the transform\n",
        "        transformed_coeffs = forward_block_transform(img_arr, self.block_size, self.mean, self.eigenvectors)\n",
        "        # transformed_coeffs is (BLOCK_SIZE*BLOCK_SIZE, N) where N is the number of blocks\n",
        "        # Note that BLOCK_SIZE*BLOCK_SIZE*N = H*W\n",
        "\n",
        "        # apply quantization using RateController. We multiply by a scaling matrix, round and then\n",
        "        # clip to -128 to 127 so we can fit in one byte.\n",
        "        design_distortions, design_rate = RateController.waterfilling_distortions_rate(theta, self.eigenvals)\n",
        "        scaling_matrix = RateController.get_scaling_matrix(design_rate, self.eigenvals)\n",
        "        transformed_coeffs_quantized_fl = np.round(transformed_coeffs*scaling_matrix.reshape(-1,1))\n",
        "        transformed_coeffs_quantized = np.clip(transformed_coeffs_quantized_fl,a_min=-128, a_max=127)\n",
        "\n",
        "        # convert transformed coefficients to uint8 (shift by 128 to bring in 0..255 range)\n",
        "        # also flatten at this point to get an BLOCK_SIZE*BLOCK_SIZE*N length array.\n",
        "        # This basically brings the quantized transform coefficients to the highest eigenvalue\n",
        "        # value across blocks together, followed by those for second highest eigenvalue and so on.\n",
        "        transformed_coeffs_uint8 = (transformed_coeffs_quantized + 128).astype(np.uint8).flatten()\n",
        "\n",
        "        # lossless compression of transform coefficients using Bzip2\n",
        "        compressed_bytes = Bzip2.encode(transformed_coeffs_uint8)\n",
        "\n",
        "        return compressed_bytes\n",
        "\n",
        "    def decode(self, compressed_bytes, H, W, theta):\n",
        "        \"\"\"\n",
        "        compressed_bytes: output from encode function\n",
        "        H,W: height and width of image\n",
        "        theta: quality parameter determing RD tradeoff\n",
        "        \"\"\"\n",
        "        img_arr_decoded = np.zeros((H, W), dtype=np.float32)\n",
        "\n",
        "        #########################\n",
        "        # ADD CODE HERE\n",
        "        # You basically need to perform the inverse of the operations in the encoder\n",
        "        # in reverse order. Be careful about numpy array shapes at each step!\n",
        "        ########################\n",
        "\n",
        "        raise NotImplementedError('implement this part')\n",
        "\n",
        "        ########################\n",
        "\n",
        "        # Clipping to [0,1] since original image was assumed to be in that range\n",
        "        img_arr_decoded = np.clip(img_arr_decoded, a_min=0., a_max=1.0)\n",
        "\n",
        "        return img_arr_decoded"
      ],
      "metadata": {
        "id": "cp1c-oCEMhjG"
      },
      "execution_count": null,
      "outputs": []
    },
    {
      "cell_type": "code",
      "source": [
        "# Code to verify the implementation above for a given image and theta value\n",
        "theta = 0.0001\n",
        "codec = ImageCodec(BLOCK_SIZE, eigenvectors, mean, eigenval)\n",
        "compressed_bytes = codec.encode(img_arr, theta=theta)\n",
        "bpp = bits_per_pixel(compressed_bytes, H,W)\n",
        "reconst = codec.decode(compressed_bytes, H, W, theta=theta)\n",
        "mse_val = mse(img_arr, reconst)\n",
        "print(f\"bpp: {bpp:.4f}, mse: {mse_val:.4f}\")\n",
        "# verify based on hardcoded values (remove if testing another image or theta value!)\n",
        "print(f\"Verifying based on hardcoded values (remove if testing another image or theta value!)\")\n",
        "assert np.abs(bpp - 0.6579) < 1e-2, \"BPP does not match\"\n",
        "assert np.abs(mse_val - 0.0003) < 1e-2, \"MSE does not match, this might indicate an error in the decoder\""
      ],
      "metadata": {
        "id": "g4D7aolPgESS"
      },
      "execution_count": null,
      "outputs": []
    },
    {
      "cell_type": "markdown",
      "source": [
        "---\n",
        "## Quiz 4.2 (3 points)\n",
        "Now that we have implemented the ImageCodec, lets try to encode our test image with it and see how it compares both objectively and subjectively. Run the next two cells for this.\n",
        "\n",
        "1. Take a look at a few reconstructions of our test image at a few `theta` parameter values. Intuitively explain what you see in the reconstruction.\n",
        "\n",
        "2. The second cell below computes the Rate Distortion curve for `ImageCodec` by varying the parameter `theta` to obtain the R-D curve and compares it against JPEG at various quality levels. What do you observe?\n",
        "\n",
        "Ans: [ADD ANSWER HERE]\n",
        "\n",
        "---"
      ],
      "metadata": {
        "id": "dczRNnpOxv6d"
      }
    },
    {
      "cell_type": "code",
      "source": [
        "\n",
        "H, W = img_arr.shape\n",
        "codec = ImageCodec(BLOCK_SIZE, eigenvectors, mean, eigenval)\n",
        "\n",
        "# Create a figure with two subplots\n",
        "fig, axes = plt.subplots(2, 3, figsize=(20, 10))\n",
        "axes_flat = axes.flatten()\n",
        "# Display the first image\n",
        "axes_flat[0].imshow(img_arr, cmap='gray')\n",
        "axes_flat[0].set_title('Original Image')\n",
        "axes_flat[0].axis('off')  # Turn off axis numbers and ticks\n",
        "\n",
        "ax_idx = 1\n",
        "for theta in [0.00001, 0.0001, 0.001, 0.01, 0.1]:\n",
        "  compressed_bytes = codec.encode(img_arr, theta=theta)\n",
        "  bpp = bits_per_pixel(compressed_bytes, H,W)\n",
        "  reconst = codec.decode(compressed_bytes, H, W, theta=theta)\n",
        "  mse_val = mse(img_arr, reconst)\n",
        "  # Display the second image\n",
        "  axes_flat[ax_idx].imshow(reconst, cmap='gray')\n",
        "  axes_flat[ax_idx].set_title(f'Reconstructed Image at theta={theta} \\nwith mse={mse_val:.2} and bpp={bpp:.2}')\n",
        "  axes_flat[ax_idx].axis('off')  # Turn off axis numbers and ticks\n",
        "  ax_idx += 1\n",
        "\n",
        "# Show the plot\n",
        "plt.show()\n"
      ],
      "metadata": {
        "id": "LqHyE5GXyEtN"
      },
      "execution_count": null,
      "outputs": []
    },
    {
      "cell_type": "code",
      "source": [
        "# lets wrap the encode decode of the image into a function so that we can try out different theta values:\n",
        "def evaluate_img(img_arr, theta):\n",
        "    H, W = img_arr.shape\n",
        "    codec = ImageCodec(BLOCK_SIZE, eigenvectors, mean, eigenval)\n",
        "    compressed_bytes = codec.encode(img_arr, theta=theta)\n",
        "    bpp = bits_per_pixel(compressed_bytes, H,W)\n",
        "    reconst = codec.decode(compressed_bytes, H, W, theta=theta)\n",
        "    mse_val = mse(img_arr, reconst)\n",
        "    return bpp, mse_val\n",
        "\n",
        "results = {\"bpp\": [], \"mse\": [], \"theta\": []}\n",
        "for theta in np.power(10,np.linspace(-4,-2,15)):\n",
        "    bpp, mse_val = evaluate_img(img_arr, theta)\n",
        "    results[\"bpp\"].append(bpp)\n",
        "    results[\"mse\"].append(mse_val)\n",
        "    results[\"theta\"].append(theta)\n",
        "\n",
        "import os\n",
        "\n",
        "# Lets now add JPEG to this plot\n",
        "def compress_image(img, quality):\n",
        "    # Open the image\n",
        "\n",
        "    # Compress the image\n",
        "    img.save(\"tmp.jpg\", 'JPEG', quality=quality)\n",
        "\n",
        "    # Calculate the file size in bits\n",
        "    file_size_bytes = os.path.getsize(\"tmp.jpg\")\n",
        "    file_size_bits = file_size_bytes * 8\n",
        "\n",
        "    # Calculate the total number of pixels\n",
        "    width, height = img.size\n",
        "    total_pixels = width * height\n",
        "\n",
        "    # Calculate bits per pixel\n",
        "    bpp = file_size_bits / total_pixels\n",
        "\n",
        "    # also lets compute mse\n",
        "    img_arr = convert_img_to_np_01(img)\n",
        "\n",
        "    reconst = Image.open(\"tmp.jpg\")\n",
        "    reconst_arr = convert_img_to_np_01(reconst)\n",
        "\n",
        "    mse_val = mse(img_arr, reconst_arr)\n",
        "\n",
        "    return bpp, mse_val\n",
        "\n",
        "\n",
        "results_jpeg = {\"bpp\": [], \"mse\": [], \"quality\": []}\n",
        "for quality in np.arange(0,50,2):\n",
        "    bpp, mse_val = compress_image(sample_img, quality=int(quality))\n",
        "    results_jpeg[\"bpp\"].append(bpp)\n",
        "    results_jpeg[\"mse\"].append(mse_val)\n",
        "    results_jpeg[\"quality\"].append(quality)\n",
        "\n",
        "combined_results = {\"bpp\": results[\"bpp\"] + results_jpeg[\"bpp\"], \"mse\": results[\"mse\"] + results_jpeg[\"mse\"], \"codec\": len(results[\"bpp\"])*[\"EE274Codec\"] + len(results_jpeg[\"bpp\"])*[\"JPEG\"]}\n",
        "px.line(combined_results, x=\"bpp\", y=\"mse\", color=\"codec\")"
      ],
      "metadata": {
        "id": "50ZxU_T8i1KE"
      },
      "execution_count": null,
      "outputs": []
    },
    {
      "cell_type": "markdown",
      "source": [
        "In this exercise, we implemented a simple block-based image compressor which works similar to JPEG in certain bitrate ranges. JPEG is different than our Image codec in a few ways:\n",
        "- JPEG uses 2D-DCT transform matrix instead of the eigenvectors based KLT we used. The reason is more practical as 2D-DCT can be split into two 1D-DCT transforms which is more efficient.\n",
        "- JPEG uses a quantization matrix derived empirically, as it tries to optimize for human perceptual quality.\n",
        "- JPEG uses a different form of lossless coding relying on block-by-block RLE + Huffman coding.\n",
        "\n",
        "Other modifications to the ImageCodec to improve the RD curve can be\n",
        "- Try larger block sizes than 8x8.\n",
        "- Try to experiment with the quantization matrix.\n",
        "- The coefficients corresponding to the first eigenvector are kind-of important and still correlated across blocks, so maybe some special lossless coding for those might work better.\n"
      ],
      "metadata": {
        "id": "DGL9Qzj0yj41"
      }
    },
    {
      "cell_type": "code",
      "source": [],
      "metadata": {
        "id": "xwswK3_yLGGR"
      },
      "execution_count": null,
      "outputs": []
    }
  ]
}